{
 "cells": [
  {
   "cell_type": "markdown",
   "metadata": {
    "id": "BXgJ6uT1NydQ"
   },
   "source": [
    "Assignment: Flowers Recognition <br>\n",
    "Dataset Description:<br>\n",
    "\n",
    "This dataset contains 4242 images of flowers.<br>\n",
    "The data collection is based on the data flicr, google images, yandex images.<br>\n",
    "You can use this datastet to recognize plants from the photo.<br>\n",
    "\n",
    "Attribute Information:<br>\n",
    "The pictures are divided into five classes: chamomile, tulip, rose, sunflower, dandelion.<br>\n",
    "For each class there are about 800 photos. Photos are not high resolution, about 320x240 pixels. <br>\n",
    "<b>Also explore how to resize images in tensorflow and then resize all the images to a same size. </b> <br>\n",
    "This is a Multiclass Classification Problem.<br>\n",
    "\n",
    "\n"
   ]
  },
  {
   "cell_type": "markdown",
   "metadata": {
    "id": "T7vy-ktuOKJH"
   },
   "source": [
    "WORKFLOW : <br>\n",
    "Load Data <br>\n",
    "Split into 60 and 40 ratio.<br>\n",
    "Encode labels.<br>\n",
    "Create Model<br>\n",
    "Compilation Step (Note : Its a Multiclass Classification problem , select loss , metrics according to it)<br>\n",
    "Train the Model.<br>\n",
    "If the model gets overfit tune your model by changing the units , No. of layers , epochs , add dropout layer or add Regularizer according to the need .<br>\n",
    "Prediction should be > 85%<br>\n",
    "Evaluation Step<br>\n",
    "Prediction<br>\n",
    "\n",
    "\n"
   ]
  },
  {
   "cell_type": "markdown",
   "metadata": {
    "id": "ri3Bg5qfPRic"
   },
   "source": [
    "Data : <br>\n",
    "https://drive.google.com/file/d/1-OX6wn5gA-bJpjPNfSyaYQLz-A-AB_uj/view?usp=sharing"
   ]
  },
  {
   "cell_type": "code",
   "execution_count": 2,
   "metadata": {
    "id": "MHeMvFpkR-Oe"
   },
   "outputs": [],
   "source": [
    "import numpy as np\n",
    "import pandas as pd\n",
    "import glob\n",
    "import cv2\n",
    "import tensorflow as tf\n",
    "import matplotlib.pyplot as plt\n",
    "from tensorflow.keras import models\n",
    "from tensorflow.keras import layers\n",
    "from tensorflow.keras.preprocessing.image import ImageDataGenerator\n",
    "from tensorflow.keras.models import Sequential\n",
    "from tensorflow.keras.layers import Dense, Flatten\n",
    "from tensorflow.keras.optimizers import RMSprop\n",
    "from sklearn.model_selection import train_test_split\n",
    "import matplotlib.pyplot as plt"
   ]
  },
  {
   "cell_type": "code",
   "execution_count": 3,
   "metadata": {
    "id": "egZwLd-iJDED"
   },
   "outputs": [],
   "source": [
    "IMG_DIR='datasets/flowers/daisy'\n",
    "IMG_DIR1='datasets/flowers/dandelion'\n",
    "IMG_DIR2='datasets/flowers/rose'\n",
    "IMG_DIR3='datasets/flowers/sunflower'\n",
    "IMG_DIR4='datasets/flowers/tulip'\n",
    "\n",
    "def read_images(directory):\n",
    "    for img in glob.glob(directory+\"/*.jpg\"):\n",
    "        image = cv2.imread(img)\n",
    "        resized_img = cv2.resize(image/255.0  , (180 ,180))\n",
    "\n",
    "        yield resized_img\n",
    "\n",
    "resized_imgs0 =  np.array(list(read_images(IMG_DIR)))\n",
    "resized_imgs1 =  np.array(list(read_images(IMG_DIR1)))\n",
    "resized_imgs2 =  np.array(list(read_images(IMG_DIR2)))\n",
    "resized_imgs3 =  np.array(list(read_images(IMG_DIR3)))\n",
    "resized_imgs4 =  np.array(list(read_images(IMG_DIR4)))"
   ]
  },
  {
   "cell_type": "code",
   "execution_count": 4,
   "metadata": {},
   "outputs": [
    {
     "data": {
      "text/plain": [
       "(769, 180, 180, 3)"
      ]
     },
     "execution_count": 4,
     "metadata": {},
     "output_type": "execute_result"
    }
   ],
   "source": [
    "resized_imgs0.shape"
   ]
  },
  {
   "cell_type": "code",
   "execution_count": 5,
   "metadata": {
    "id": "coTWYSuim7aH"
   },
   "outputs": [],
   "source": [
    "label0 = np.zeros((resized_imgs0.shape[0],1))   #0\n",
    "label1 = np.ones((resized_imgs1.shape[0],1))  #1\n",
    "label2 = np.ones((resized_imgs2.shape[0],1))*2 #2\n",
    "label3 = np.ones((resized_imgs3.shape[0],1))*3 #3\n",
    "label4 = np.ones((resized_imgs4.shape[0],1))*4  #4"
   ]
  },
  {
   "cell_type": "code",
   "execution_count": 6,
   "metadata": {
    "id": "kfxqQEKJm7ho"
   },
   "outputs": [],
   "source": [
    "data = np.concatenate((resized_imgs0,resized_imgs1,resized_imgs2,resized_imgs3,resized_imgs4))"
   ]
  },
  {
   "cell_type": "code",
   "execution_count": 7,
   "metadata": {
    "id": "hyo0eb-5S3hN"
   },
   "outputs": [],
   "source": [
    "del resized_imgs0\n",
    "del resized_imgs1\n",
    "del resized_imgs2\n",
    "del resized_imgs3\n",
    "del resized_imgs4"
   ]
  },
  {
   "cell_type": "code",
   "execution_count": 8,
   "metadata": {
    "id": "v1rIpkgunCsg"
   },
   "outputs": [],
   "source": [
    "data= data.reshape(data.shape[0], data.shape[1]*data.shape[2]*data.shape[3])"
   ]
  },
  {
   "cell_type": "code",
   "execution_count": 9,
   "metadata": {
    "id": "v46rF7dJm7l0"
   },
   "outputs": [],
   "source": [
    "labels = np.concatenate((label0,label1,label2,label3,label4))"
   ]
  },
  {
   "cell_type": "code",
   "execution_count": 10,
   "metadata": {
    "id": "SBw851DUqx1d"
   },
   "outputs": [],
   "source": [
    "del label0\n",
    "del label1\n",
    "del label2\n",
    "del label3\n",
    "del label4"
   ]
  },
  {
   "cell_type": "code",
   "execution_count": 11,
   "metadata": {
    "id": "GdRMJtr-m7ob"
   },
   "outputs": [],
   "source": [
    "data = pd.DataFrame(data)\n",
    "data['labels'] = labels.astype('float32')"
   ]
  },
  {
   "cell_type": "code",
   "execution_count": 12,
   "metadata": {
    "id": "YIxDtQiWnVLg"
   },
   "outputs": [],
   "source": [
    "train_data, test_data, train_labels, test_labels=train_test_split(data.iloc[0:,:-1], data['labels'], test_size=0.3, random_state=42, stratify = labels)"
   ]
  },
  {
   "cell_type": "code",
   "execution_count": 13,
   "metadata": {
    "id": "HNTJzW2PJppz"
   },
   "outputs": [],
   "source": [
    "del data"
   ]
  },
  {
   "cell_type": "code",
   "execution_count": 14,
   "metadata": {
    "id": "ySi80YLhm7rY"
   },
   "outputs": [],
   "source": [
    "train_data = np.array(train_data).reshape(len(train_data),180,180,3)\n",
    "# test_data.reshape(150,150,3)"
   ]
  },
  {
   "cell_type": "code",
   "execution_count": 15,
   "metadata": {
    "id": "u2Q2bSk0i8SS"
   },
   "outputs": [],
   "source": [
    "test_data = np.array(test_data).reshape(len(test_data),180,180,3)"
   ]
  },
  {
   "cell_type": "code",
   "execution_count": 16,
   "metadata": {
    "id": "RVYQi0yowy5d"
   },
   "outputs": [],
   "source": [
    "train_labels = np.array(train_labels).astype('float32')\n",
    "test_labels = np.array(test_labels).astype('float32')"
   ]
  },
  {
   "cell_type": "code",
   "execution_count": 17,
   "metadata": {
    "id": "mMFN2MN4nKEI"
   },
   "outputs": [],
   "source": [
    "data_gen = tf.keras.preprocessing.image.ImageDataGenerator(\n",
    "    zca_epsilon=1e-06,\n",
    "    rotation_range=0,\n",
    "    width_shift_range=0.0,\n",
    "    height_shift_range=0.0,\n",
    "    brightness_range=None,\n",
    "    shear_range=0.3,\n",
    "    zoom_range=0.2,\n",
    "    channel_shift_range=0.3,\n",
    "    fill_mode=\"nearest\",\n",
    "    cval=0.0,\n",
    "    horizontal_flip=True,\n",
    "    vertical_flip=False,\n",
    "    rescale=None,\n",
    "    preprocessing_function=None,\n",
    "    data_format=None,\n",
    "    validation_split=0.0,\n",
    "    dtype=None,\n",
    ")"
   ]
  },
  {
   "cell_type": "code",
   "execution_count": 18,
   "metadata": {
    "id": "IJxEir7CoyCj"
   },
   "outputs": [],
   "source": [
    "data_gen.fit(train_data)"
   ]
  },
  {
   "cell_type": "code",
   "execution_count": 19,
   "metadata": {
    "id": "ZIn7Xpbat0aV"
   },
   "outputs": [],
   "source": [
    "data_gen.fit(test_data)"
   ]
  },
  {
   "cell_type": "code",
   "execution_count": 20,
   "metadata": {
    "id": "n0kNKV8DatIC"
   },
   "outputs": [],
   "source": [
    "#MOdels with COnv2D and Maxpooling\n",
    "model = tf.keras.models.Sequential([\n",
    "    # Note the input shape is the desired size of the image 150x150 with 3 bytes color\n",
    "    # This is the first convolution\n",
    "    tf.keras.layers.Conv2D(64, (3,3), activation='relu', input_shape=(180, 180, 3,)),\n",
    "    tf.keras.layers.MaxPooling2D(2, 2),\n",
    "    # The second convolution\n",
    "    tf.keras.layers.Conv2D(64, (3,3), activation='relu'),\n",
    "    tf.keras.layers.MaxPooling2D(2,2),\n",
    "    # The third convolution\n",
    "    tf.keras.layers.Conv2D(32, (3,3), activation='relu'),\n",
    "    tf.keras.layers.MaxPooling2D(2,2),\n",
    "    # The fourth convolution\n",
    "    tf.keras.layers.Conv2D(16, (3,3), activation='relu'),\n",
    "    tf.keras.layers.MaxPooling2D(2,2),\n",
    "    # Flatten the results to feed into a DNN\n",
    "    tf.keras.layers.Flatten(),\n",
    "    tf.keras.layers.Dropout(0.5),\n",
    "    # 512 neuron hidden layer\n",
    "    tf.keras.layers.Dense(512, activation='relu'),\n",
    "    tf.keras.layers.Dense(5, activation='softmax')\n",
    "])"
   ]
  },
  {
   "cell_type": "code",
   "execution_count": 21,
   "metadata": {
    "id": "2QFL7tA4D0Sa"
   },
   "outputs": [],
   "source": [
    "model.compile(optimizer=RMSprop(learning_rate= 0.0001),\n",
    "loss='sparse_categorical_crossentropy',\n",
    "metrics=['accuracy'])"
   ]
  },
  {
   "cell_type": "code",
   "execution_count": 22,
   "metadata": {
    "colab": {
     "base_uri": "https://localhost:8080/"
    },
    "id": "mwG7_qctxUBl",
    "outputId": "1451f513-f252-4795-a94a-de6160a3bcb8"
   },
   "outputs": [
    {
     "name": "stdout",
     "output_type": "stream",
     "text": [
      "Epoch 1/100\n",
      "10/10 [==============================] - 36s 3s/step - loss: 1.6119 - accuracy: 0.1824 - val_loss: 1.5926 - val_accuracy: 0.4000\n",
      "Epoch 2/100\n",
      "10/10 [==============================] - 24s 2s/step - loss: 1.5885 - accuracy: 0.2905 - val_loss: 1.5693 - val_accuracy: 0.3200\n",
      "Epoch 3/100\n",
      "10/10 [==============================] - 19s 2s/step - loss: 1.5698 - accuracy: 0.3029 - val_loss: 1.5313 - val_accuracy: 0.3400\n",
      "Epoch 4/100\n",
      "10/10 [==============================] - 16s 2s/step - loss: 1.5198 - accuracy: 0.3588 - val_loss: 1.4758 - val_accuracy: 0.3700\n",
      "Epoch 5/100\n",
      "10/10 [==============================] - 16s 2s/step - loss: 1.4733 - accuracy: 0.3288 - val_loss: 1.4353 - val_accuracy: 0.4100\n",
      "Epoch 6/100\n",
      "10/10 [==============================] - 16s 2s/step - loss: 1.4539 - accuracy: 0.3640 - val_loss: 1.3958 - val_accuracy: 0.4000\n",
      "Epoch 7/100\n",
      "10/10 [==============================] - 17s 2s/step - loss: 1.3790 - accuracy: 0.4163 - val_loss: 1.3564 - val_accuracy: 0.4300\n",
      "Epoch 8/100\n",
      "10/10 [==============================] - 15s 2s/step - loss: 1.3408 - accuracy: 0.3782 - val_loss: 1.3430 - val_accuracy: 0.4300\n",
      "Epoch 9/100\n",
      "10/10 [==============================] - 16s 2s/step - loss: 1.3098 - accuracy: 0.4814 - val_loss: 1.2958 - val_accuracy: 0.4300\n",
      "Epoch 10/100\n",
      "10/10 [==============================] - 16s 2s/step - loss: 1.3196 - accuracy: 0.3863 - val_loss: 1.2467 - val_accuracy: 0.5000\n",
      "Epoch 11/100\n",
      "10/10 [==============================] - 15s 2s/step - loss: 1.2216 - accuracy: 0.4818 - val_loss: 1.2406 - val_accuracy: 0.4900\n",
      "Epoch 12/100\n",
      "10/10 [==============================] - 16s 2s/step - loss: 1.2695 - accuracy: 0.4632 - val_loss: 1.2621 - val_accuracy: 0.4300\n",
      "Epoch 13/100\n",
      "10/10 [==============================] - 15s 2s/step - loss: 1.2263 - accuracy: 0.4553 - val_loss: 1.2154 - val_accuracy: 0.5200\n",
      "Epoch 14/100\n",
      "10/10 [==============================] - 15s 2s/step - loss: 1.2347 - accuracy: 0.4282 - val_loss: 1.2457 - val_accuracy: 0.4800\n",
      "Epoch 15/100\n",
      "10/10 [==============================] - 15s 1s/step - loss: 1.2452 - accuracy: 0.4546 - val_loss: 1.1816 - val_accuracy: 0.4900\n",
      "Epoch 16/100\n",
      "10/10 [==============================] - 16s 2s/step - loss: 1.2247 - accuracy: 0.4903 - val_loss: 1.1738 - val_accuracy: 0.5000\n",
      "Epoch 17/100\n",
      "10/10 [==============================] - 16s 2s/step - loss: 1.1681 - accuracy: 0.5271 - val_loss: 1.1762 - val_accuracy: 0.5200\n",
      "Epoch 18/100\n",
      "10/10 [==============================] - 16s 2s/step - loss: 1.2288 - accuracy: 0.4870 - val_loss: 1.2049 - val_accuracy: 0.4900\n",
      "Epoch 19/100\n",
      "10/10 [==============================] - 16s 2s/step - loss: 1.1677 - accuracy: 0.4862 - val_loss: 1.1593 - val_accuracy: 0.5700\n",
      "Epoch 20/100\n",
      "10/10 [==============================] - 16s 2s/step - loss: 1.2538 - accuracy: 0.4813 - val_loss: 1.1605 - val_accuracy: 0.5100\n",
      "Epoch 21/100\n",
      "10/10 [==============================] - 16s 2s/step - loss: 1.2248 - accuracy: 0.4851 - val_loss: 1.1649 - val_accuracy: 0.4900\n",
      "Epoch 22/100\n",
      "10/10 [==============================] - 15s 2s/step - loss: 1.1965 - accuracy: 0.5173 - val_loss: 1.1927 - val_accuracy: 0.4600\n",
      "Epoch 23/100\n",
      "10/10 [==============================] - 15s 2s/step - loss: 1.1270 - accuracy: 0.5421 - val_loss: 1.1320 - val_accuracy: 0.5700\n",
      "Epoch 24/100\n",
      "10/10 [==============================] - 15s 2s/step - loss: 1.0802 - accuracy: 0.5520 - val_loss: 1.1845 - val_accuracy: 0.5000\n",
      "Epoch 25/100\n",
      "10/10 [==============================] - 15s 1s/step - loss: 1.1667 - accuracy: 0.5181 - val_loss: 1.1205 - val_accuracy: 0.5600\n",
      "Epoch 26/100\n",
      "10/10 [==============================] - 15s 2s/step - loss: 1.1276 - accuracy: 0.4576 - val_loss: 1.1248 - val_accuracy: 0.5600\n",
      "Epoch 27/100\n",
      "10/10 [==============================] - 16s 2s/step - loss: 1.0940 - accuracy: 0.5232 - val_loss: 1.2872 - val_accuracy: 0.4400\n",
      "Epoch 28/100\n",
      "10/10 [==============================] - 16s 2s/step - loss: 1.1848 - accuracy: 0.5143 - val_loss: 1.1369 - val_accuracy: 0.5200\n",
      "Epoch 29/100\n",
      "10/10 [==============================] - 16s 2s/step - loss: 1.2361 - accuracy: 0.4341 - val_loss: 1.1259 - val_accuracy: 0.5700\n",
      "Epoch 30/100\n",
      "10/10 [==============================] - 16s 2s/step - loss: 1.2664 - accuracy: 0.4733 - val_loss: 1.1066 - val_accuracy: 0.5900\n",
      "Epoch 31/100\n",
      "10/10 [==============================] - 16s 2s/step - loss: 1.0948 - accuracy: 0.5321 - val_loss: 1.1705 - val_accuracy: 0.5300\n",
      "Epoch 32/100\n",
      "10/10 [==============================] - 16s 2s/step - loss: 1.1425 - accuracy: 0.5230 - val_loss: 1.1242 - val_accuracy: 0.5700\n",
      "Epoch 33/100\n",
      "10/10 [==============================] - 16s 2s/step - loss: 1.2042 - accuracy: 0.4838 - val_loss: 1.1262 - val_accuracy: 0.4900\n",
      "Epoch 34/100\n",
      "10/10 [==============================] - 15s 2s/step - loss: 1.0946 - accuracy: 0.5805 - val_loss: 1.1774 - val_accuracy: 0.4900\n",
      "Epoch 35/100\n",
      "10/10 [==============================] - 16s 2s/step - loss: 1.0970 - accuracy: 0.6000 - val_loss: 1.0838 - val_accuracy: 0.6100\n",
      "Epoch 36/100\n",
      "10/10 [==============================] - 15s 2s/step - loss: 1.0853 - accuracy: 0.5348 - val_loss: 1.1065 - val_accuracy: 0.5500\n",
      "Epoch 37/100\n",
      "10/10 [==============================] - 15s 2s/step - loss: 0.9739 - accuracy: 0.6134 - val_loss: 1.1496 - val_accuracy: 0.5100\n",
      "Epoch 38/100\n",
      "10/10 [==============================] - 16s 2s/step - loss: 1.0733 - accuracy: 0.5612 - val_loss: 1.0944 - val_accuracy: 0.5800\n",
      "Epoch 39/100\n",
      "10/10 [==============================] - 16s 2s/step - loss: 1.1679 - accuracy: 0.5261 - val_loss: 1.0958 - val_accuracy: 0.6000\n",
      "Epoch 40/100\n",
      "10/10 [==============================] - 16s 2s/step - loss: 1.0415 - accuracy: 0.5324 - val_loss: 1.0875 - val_accuracy: 0.5600\n",
      "Epoch 41/100\n",
      "10/10 [==============================] - 16s 2s/step - loss: 1.1049 - accuracy: 0.5666 - val_loss: 1.0679 - val_accuracy: 0.6000\n",
      "Epoch 42/100\n",
      "10/10 [==============================] - 16s 2s/step - loss: 1.0872 - accuracy: 0.5647 - val_loss: 1.0749 - val_accuracy: 0.5800\n",
      "Epoch 43/100\n",
      "10/10 [==============================] - 15s 2s/step - loss: 1.1433 - accuracy: 0.4803 - val_loss: 1.1275 - val_accuracy: 0.5300\n",
      "Epoch 44/100\n",
      "10/10 [==============================] - 15s 2s/step - loss: 1.1098 - accuracy: 0.5314 - val_loss: 1.1321 - val_accuracy: 0.5100\n",
      "Epoch 45/100\n",
      "10/10 [==============================] - 16s 2s/step - loss: 0.9930 - accuracy: 0.5968 - val_loss: 1.1115 - val_accuracy: 0.5300\n",
      "Epoch 46/100\n",
      "10/10 [==============================] - 16s 2s/step - loss: 1.0005 - accuracy: 0.5984 - val_loss: 1.0642 - val_accuracy: 0.6000\n",
      "Epoch 47/100\n",
      "10/10 [==============================] - 15s 1s/step - loss: 1.0837 - accuracy: 0.6212 - val_loss: 1.1135 - val_accuracy: 0.5600\n",
      "Epoch 48/100\n",
      "10/10 [==============================] - 15s 1s/step - loss: 1.0697 - accuracy: 0.5823 - val_loss: 1.1221 - val_accuracy: 0.5800\n",
      "Epoch 49/100\n",
      "10/10 [==============================] - 15s 2s/step - loss: 1.1022 - accuracy: 0.5709 - val_loss: 1.0621 - val_accuracy: 0.6300\n",
      "Epoch 50/100\n",
      "10/10 [==============================] - 15s 1s/step - loss: 1.0356 - accuracy: 0.5659 - val_loss: 1.0503 - val_accuracy: 0.6300\n",
      "Epoch 51/100\n",
      "10/10 [==============================] - 15s 2s/step - loss: 1.0329 - accuracy: 0.5972 - val_loss: 1.0977 - val_accuracy: 0.5600\n",
      "Epoch 52/100\n",
      "10/10 [==============================] - 15s 2s/step - loss: 1.0475 - accuracy: 0.5687 - val_loss: 1.0780 - val_accuracy: 0.5900\n",
      "Epoch 53/100\n",
      "10/10 [==============================] - 17s 2s/step - loss: 1.0324 - accuracy: 0.5782 - val_loss: 1.0837 - val_accuracy: 0.6200\n",
      "Epoch 54/100\n",
      "10/10 [==============================] - 17s 2s/step - loss: 1.0113 - accuracy: 0.5888 - val_loss: 1.0809 - val_accuracy: 0.5800\n",
      "Epoch 55/100\n",
      "10/10 [==============================] - 15s 2s/step - loss: 1.0993 - accuracy: 0.5964 - val_loss: 1.0434 - val_accuracy: 0.6600\n",
      "Epoch 56/100\n",
      "10/10 [==============================] - 15s 1s/step - loss: 1.0797 - accuracy: 0.5440 - val_loss: 1.0557 - val_accuracy: 0.6100\n",
      "Epoch 57/100\n",
      "10/10 [==============================] - 14s 1s/step - loss: 1.0042 - accuracy: 0.6104 - val_loss: 1.0918 - val_accuracy: 0.6200\n",
      "Epoch 58/100\n",
      "10/10 [==============================] - 15s 1s/step - loss: 0.9431 - accuracy: 0.6269 - val_loss: 1.0688 - val_accuracy: 0.6300\n"
     ]
    },
    {
     "name": "stdout",
     "output_type": "stream",
     "text": [
      "Epoch 59/100\n",
      "10/10 [==============================] - 15s 1s/step - loss: 0.9912 - accuracy: 0.6035 - val_loss: 1.0453 - val_accuracy: 0.6200\n",
      "Epoch 60/100\n",
      "10/10 [==============================] - 15s 1s/step - loss: 1.0941 - accuracy: 0.6015 - val_loss: 1.1452 - val_accuracy: 0.5500\n",
      "Epoch 61/100\n",
      "10/10 [==============================] - 15s 2s/step - loss: 0.9838 - accuracy: 0.5724 - val_loss: 1.0714 - val_accuracy: 0.5900\n",
      "Epoch 62/100\n",
      "10/10 [==============================] - 15s 1s/step - loss: 1.0382 - accuracy: 0.5809 - val_loss: 1.0376 - val_accuracy: 0.6100\n",
      "Epoch 63/100\n",
      "10/10 [==============================] - 14s 1s/step - loss: 1.0655 - accuracy: 0.5623 - val_loss: 1.0427 - val_accuracy: 0.5800\n",
      "Epoch 64/100\n",
      "10/10 [==============================] - 14s 1s/step - loss: 1.0605 - accuracy: 0.5789 - val_loss: 1.0491 - val_accuracy: 0.5900\n",
      "Epoch 65/100\n",
      "10/10 [==============================] - 14s 1s/step - loss: 0.8956 - accuracy: 0.6584 - val_loss: 1.1244 - val_accuracy: 0.5600\n",
      "Epoch 66/100\n",
      "10/10 [==============================] - 14s 1s/step - loss: 1.0412 - accuracy: 0.5571 - val_loss: 1.0255 - val_accuracy: 0.6000\n",
      "Epoch 67/100\n",
      "10/10 [==============================] - 14s 1s/step - loss: 1.0396 - accuracy: 0.6116 - val_loss: 1.0328 - val_accuracy: 0.6200\n",
      "Epoch 68/100\n",
      "10/10 [==============================] - 14s 1s/step - loss: 1.0133 - accuracy: 0.5763 - val_loss: 1.1061 - val_accuracy: 0.6200\n",
      "Epoch 69/100\n",
      "10/10 [==============================] - 15s 1s/step - loss: 1.0534 - accuracy: 0.5892 - val_loss: 1.0486 - val_accuracy: 0.6300\n",
      "Epoch 70/100\n",
      "10/10 [==============================] - 15s 1s/step - loss: 0.9874 - accuracy: 0.5699 - val_loss: 1.0603 - val_accuracy: 0.6100\n",
      "Epoch 71/100\n",
      "10/10 [==============================] - 14s 1s/step - loss: 1.0035 - accuracy: 0.6050 - val_loss: 1.0291 - val_accuracy: 0.6000\n",
      "Epoch 72/100\n",
      "10/10 [==============================] - 14s 1s/step - loss: 1.0336 - accuracy: 0.6028 - val_loss: 1.0638 - val_accuracy: 0.5800\n",
      "Epoch 73/100\n",
      "10/10 [==============================] - 14s 1s/step - loss: 0.9423 - accuracy: 0.6252 - val_loss: 1.0498 - val_accuracy: 0.6200\n",
      "Epoch 74/100\n",
      "10/10 [==============================] - 14s 1s/step - loss: 0.9432 - accuracy: 0.6121 - val_loss: 1.0450 - val_accuracy: 0.5900\n",
      "Epoch 75/100\n",
      "10/10 [==============================] - 14s 1s/step - loss: 1.0872 - accuracy: 0.5649 - val_loss: 1.0396 - val_accuracy: 0.6000\n",
      "Epoch 76/100\n",
      "10/10 [==============================] - 15s 1s/step - loss: 0.9587 - accuracy: 0.6607 - val_loss: 1.0642 - val_accuracy: 0.5600\n",
      "Epoch 77/100\n",
      "10/10 [==============================] - 15s 2s/step - loss: 0.9975 - accuracy: 0.5961 - val_loss: 1.0796 - val_accuracy: 0.5800\n",
      "Epoch 78/100\n",
      "10/10 [==============================] - 15s 1s/step - loss: 0.9713 - accuracy: 0.6252 - val_loss: 1.0348 - val_accuracy: 0.5800\n",
      "Epoch 79/100\n",
      "10/10 [==============================] - 14s 2s/step - loss: 1.0599 - accuracy: 0.6285 - val_loss: 1.0248 - val_accuracy: 0.6100\n",
      "Epoch 80/100\n",
      "10/10 [==============================] - 15s 1s/step - loss: 1.0177 - accuracy: 0.6400 - val_loss: 1.0242 - val_accuracy: 0.5900\n",
      "Epoch 81/100\n",
      "10/10 [==============================] - 15s 2s/step - loss: 0.9536 - accuracy: 0.6085 - val_loss: 1.0288 - val_accuracy: 0.6300\n",
      "Epoch 82/100\n",
      "10/10 [==============================] - 16s 2s/step - loss: 0.9823 - accuracy: 0.5913 - val_loss: 1.0378 - val_accuracy: 0.5700\n",
      "Epoch 83/100\n",
      "10/10 [==============================] - 15s 2s/step - loss: 0.8309 - accuracy: 0.6927 - val_loss: 0.9976 - val_accuracy: 0.6600\n",
      "Epoch 84/100\n",
      "10/10 [==============================] - 15s 2s/step - loss: 0.9855 - accuracy: 0.5707 - val_loss: 1.0316 - val_accuracy: 0.6200\n",
      "Epoch 85/100\n",
      "10/10 [==============================] - 15s 2s/step - loss: 0.8863 - accuracy: 0.6221 - val_loss: 1.0373 - val_accuracy: 0.6600\n",
      "Epoch 86/100\n",
      "10/10 [==============================] - 14s 1s/step - loss: 1.0752 - accuracy: 0.5110 - val_loss: 1.0041 - val_accuracy: 0.6600\n",
      "Epoch 87/100\n",
      "10/10 [==============================] - 15s 2s/step - loss: 0.8927 - accuracy: 0.6625 - val_loss: 1.1307 - val_accuracy: 0.5400\n",
      "Epoch 88/100\n",
      "10/10 [==============================] - 17s 2s/step - loss: 0.9436 - accuracy: 0.6253 - val_loss: 1.0144 - val_accuracy: 0.6500\n",
      "Epoch 89/100\n",
      "10/10 [==============================] - 15s 1s/step - loss: 0.9656 - accuracy: 0.6508 - val_loss: 1.0886 - val_accuracy: 0.5800\n",
      "Epoch 90/100\n",
      "10/10 [==============================] - 17s 2s/step - loss: 0.9303 - accuracy: 0.6488 - val_loss: 1.0905 - val_accuracy: 0.6100\n",
      "Epoch 91/100\n",
      "10/10 [==============================] - 16s 2s/step - loss: 1.0282 - accuracy: 0.5719 - val_loss: 1.0145 - val_accuracy: 0.6300\n",
      "Epoch 92/100\n",
      "10/10 [==============================] - 16s 2s/step - loss: 0.9498 - accuracy: 0.6276 - val_loss: 1.0457 - val_accuracy: 0.6000\n",
      "Epoch 93/100\n",
      "10/10 [==============================] - 15s 2s/step - loss: 0.9382 - accuracy: 0.6235 - val_loss: 1.0173 - val_accuracy: 0.5900\n",
      "Epoch 94/100\n",
      "10/10 [==============================] - 15s 2s/step - loss: 0.9916 - accuracy: 0.5466 - val_loss: 0.9986 - val_accuracy: 0.6300\n",
      "Epoch 95/100\n",
      "10/10 [==============================] - 16s 2s/step - loss: 1.0940 - accuracy: 0.5799 - val_loss: 0.9945 - val_accuracy: 0.6400\n",
      "Epoch 96/100\n",
      "10/10 [==============================] - 15s 2s/step - loss: 0.9475 - accuracy: 0.6288 - val_loss: 1.0146 - val_accuracy: 0.6600\n",
      "Epoch 97/100\n",
      "10/10 [==============================] - 15s 2s/step - loss: 0.8595 - accuracy: 0.6957 - val_loss: 1.0373 - val_accuracy: 0.6300\n",
      "Epoch 98/100\n",
      "10/10 [==============================] - 15s 2s/step - loss: 0.9043 - accuracy: 0.6819 - val_loss: 0.9947 - val_accuracy: 0.6200\n",
      "Epoch 99/100\n",
      "10/10 [==============================] - 16s 2s/step - loss: 0.8941 - accuracy: 0.6761 - val_loss: 0.9700 - val_accuracy: 0.6400\n",
      "Epoch 100/100\n",
      "10/10 [==============================] - 14s 1s/step - loss: 1.0671 - accuracy: 0.5816 - val_loss: 0.9939 - val_accuracy: 0.6600\n"
     ]
    }
   ],
   "source": [
    "result = model.fit(\n",
    "          x= train_data,\n",
    "          y= train_labels,\n",
    "          batch_size = 30,\n",
    "          steps_per_epoch=10,\n",
    "          epochs=100,\n",
    "          validation_split=0.3,\n",
    "          validation_steps=10,\n",
    "          validation_batch_size=10)"
   ]
  },
  {
   "cell_type": "code",
   "execution_count": 23,
   "metadata": {
    "colab": {
     "base_uri": "https://localhost:8080/"
    },
    "id": "kAMVOUBUhcj9",
    "outputId": "820bc072-6d16-4524-f589-db35b0f56f1d"
   },
   "outputs": [
    {
     "name": "stdout",
     "output_type": "stream",
     "text": [
      "41/41 [==============================] - 16s 391ms/step - loss: 1.0102 - accuracy: 0.5937\n"
     ]
    },
    {
     "data": {
      "text/plain": [
       "[1.0102444887161255, 0.5936776995658875]"
      ]
     },
     "execution_count": 23,
     "metadata": {},
     "output_type": "execute_result"
    }
   ],
   "source": [
    "model.evaluate(test_data,test_labels)"
   ]
  },
  {
   "cell_type": "code",
   "execution_count": 24,
   "metadata": {
    "colab": {
     "base_uri": "https://localhost:8080/"
    },
    "id": "Ufw4FqsmU-g2",
    "outputId": "232af4c5-4cb3-41aa-99fa-41f34b7ca97e"
   },
   "outputs": [
    {
     "data": {
      "text/plain": [
       "dict_keys(['loss', 'accuracy', 'val_loss', 'val_accuracy'])"
      ]
     },
     "execution_count": 24,
     "metadata": {},
     "output_type": "execute_result"
    }
   ],
   "source": [
    "x = result.history.keys()\n",
    "x"
   ]
  },
  {
   "cell_type": "code",
   "execution_count": 25,
   "metadata": {
    "colab": {
     "base_uri": "https://localhost:8080/",
     "height": 573
    },
    "id": "dOKPsS3HWwUn",
    "outputId": "8575f31d-7fd3-47f2-8a8e-d8df09be1925"
   },
   "outputs": [
    {
     "data": {
      "image/png": "[encoded data removed]",
      "text/plain": [
       "<Figure size 432x288 with 1 Axes>"
      ]
     },
     "metadata": {
      "needs_background": "light"
     },
     "output_type": "display_data"
    },
    {
     "data": {
      "image/png": "[encoded data removed]",
      "text/plain": [
       "<Figure size 432x288 with 1 Axes>"
      ]
     },
     "metadata": {
      "needs_background": "light"
     },
     "output_type": "display_data"
    }
   ],
   "source": [
    "plt.plot(result.history['accuracy'])\n",
    "plt.plot(result.history['val_accuracy'])\n",
    "plt.title('model accuracy')\n",
    "plt.ylabel('accuracy')\n",
    "plt.xlabel('epoch')\n",
    "plt.legend(['train', 'test'], loc='upper left')\n",
    "plt.show()\n",
    "# summarize history for loss\n",
    "plt.plot(result.history['loss'])\n",
    "plt.plot(result.history['val_loss'])\n",
    "plt.title('model loss')\n",
    "plt.ylabel('loss')\n",
    "plt.xlabel('epoch')\n",
    "plt.legend(['train', 'test'], loc='upper left')\n",
    "plt.show()"
   ]
  },
  {
   "cell_type": "code",
   "execution_count": 26,
   "metadata": {
    "id": "u7p4aMxliqvO"
   },
   "outputs": [],
   "source": [
    "y_pred1 = model.predict(test_data)"
   ]
  },
  {
   "cell_type": "code",
   "execution_count": 27,
   "metadata": {
    "colab": {
     "base_uri": "https://localhost:8080/"
    },
    "id": "-qhQ6JA_i0YM",
    "outputId": "6e005c90-c8d7-45db-d772-0edd048bf470"
   },
   "outputs": [
    {
     "data": {
      "text/plain": [
       "(1297, 5)"
      ]
     },
     "execution_count": 27,
     "metadata": {},
     "output_type": "execute_result"
    }
   ],
   "source": [
    "y_pred1.shape"
   ]
  },
  {
   "cell_type": "code",
   "execution_count": 28,
   "metadata": {
    "colab": {
     "base_uri": "https://localhost:8080/"
    },
    "id": "P9u0xdNxfeHl",
    "outputId": "307c6473-48d5-4257-cd19-1277ff7a3174"
   },
   "outputs": [
    {
     "data": {
      "text/plain": [
       "array([4, 2, 0, 4, 4, 4, 1, 3, 1, 1, 3, 0, 0, 1, 1, 4, 1, 2, 2, 1, 4, 0,\n",
       "       4, 3, 1, 2, 1, 1, 4, 1], dtype=int64)"
      ]
     },
     "execution_count": 28,
     "metadata": {},
     "output_type": "execute_result"
    }
   ],
   "source": [
    "np.argmax(y_pred1, axis=1)[0:30]"
   ]
  },
  {
   "cell_type": "code",
   "execution_count": 29,
   "metadata": {
    "colab": {
     "base_uri": "https://localhost:8080/"
    },
    "id": "zFzNqz3IvhSG",
    "outputId": "073f6511-eaf8-44a9-ab03-4575bd02ada9"
   },
   "outputs": [
    {
     "data": {
      "text/plain": [
       "array([4, 0, 2, 4, 4, 4, 1, 3, 4, 2, 3, 3, 4, 2, 2, 4, 2, 2, 2, 1, 1, 0,\n",
       "       4, 3, 1, 4, 3, 1, 4, 1])"
      ]
     },
     "execution_count": 29,
     "metadata": {},
     "output_type": "execute_result"
    }
   ],
   "source": [
    "np.array(test_labels[0:30]).astype('int32')"
   ]
  },
  {
   "cell_type": "code",
   "execution_count": null,
   "metadata": {},
   "outputs": [],
   "source": []
  }
 ],
 "metadata": {
  "accelerator": "GPU",
  "colab": {
   "collapsed_sections": [],
   "name": "flowerclassification_28_with_Augmentation_L.ipynb",
   "provenance": []
  },
  "kernelspec": {
   "display_name": "Python 3",
   "language": "python",
   "name": "python3"
  },
  "language_info": {
   "codemirror_mode": {
    "name": "ipython",
    "version": 3
   },
   "file_extension": ".py",
   "mimetype": "text/x-python",
   "name": "python",
   "nbconvert_exporter": "python",
   "pygments_lexer": "ipython3",
   "version": "3.8.3"
  }
 },
 "nbformat": 4,
 "nbformat_minor": 1
}
