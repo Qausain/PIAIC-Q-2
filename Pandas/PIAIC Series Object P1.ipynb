{
 "cells": [
  {
   "cell_type": "code",
   "execution_count": null,
   "metadata": {},
   "outputs": [],
   "source": []
  },
  {
   "cell_type": "markdown",
   "metadata": {},
   "source": [
    "# pandas Series has two things in one object\n",
    "1 Values\n",
    "2 Index"
   ]
  },
  {
   "cell_type": "code",
   "execution_count": 25,
   "metadata": {},
   "outputs": [],
   "source": [
    "import pandas as pd"
   ]
  },
  {
   "cell_type": "code",
   "execution_count": 4,
   "metadata": {},
   "outputs": [
    {
     "data": {
      "text/plain": [
       "0    4\n",
       "1    7\n",
       "2   -5\n",
       "3    3\n",
       "dtype: int64"
      ]
     },
     "execution_count": 4,
     "metadata": {},
     "output_type": "execute_result"
    }
   ],
   "source": [
    "obj = pd.Series([4, 7, -5, 3])\n",
    "obj"
   ]
  },
  {
   "cell_type": "code",
   "execution_count": 16,
   "metadata": {},
   "outputs": [
    {
     "name": "stdout",
     "output_type": "stream",
     "text": [
      "[100 200 100 400]\n",
      "RangeIndex(start=0, stop=4, step=1)\n"
     ]
    }
   ],
   "source": [
    "sales = pd.Series([100, 200, 100, 400])\n",
    "print(sales.values)\n",
    "print(sales.index)"
   ]
  },
  {
   "cell_type": "code",
   "execution_count": 18,
   "metadata": {},
   "outputs": [
    {
     "name": "stdout",
     "output_type": "stream",
     "text": [
      "a    100\n",
      "b    200\n",
      "c    100\n",
      "d    400\n",
      "dtype: int64\n"
     ]
    }
   ],
   "source": [
    "s = pd.Series([100, 200, 100, 400], index = ['a', 'b', 'c', 'd'])\n",
    "print(s)"
   ]
  },
  {
   "cell_type": "code",
   "execution_count": 21,
   "metadata": {},
   "outputs": [
    {
     "name": "stdout",
     "output_type": "stream",
     "text": [
      "Jan    100\n",
      "Feb    200\n",
      "Mar    100\n",
      "Apr    400\n",
      "dtype: int64\n",
      "[100 200 100 400]\n",
      "Index(['Jan', 'Feb', 'Mar', 'Apr'], dtype='object')\n"
     ]
    }
   ],
   "source": [
    "s = pd.Series([100, 200, 100, 400], index = ['Jan', 'Feb', 'Mar', 'Apr'])\n",
    "print(s)\n",
    "print(s.values)\n",
    "print(s.index)"
   ]
  },
  {
   "cell_type": "code",
   "execution_count": 24,
   "metadata": {},
   "outputs": [
    {
     "name": "stdout",
     "output_type": "stream",
     "text": [
      "Jan    100\n",
      "Feb    200\n",
      "Mar    100\n",
      "Apr    400\n",
      "Name: 4 month sales, dtype: int64\n"
     ]
    }
   ],
   "source": [
    "s = pd.Series([100, 200, 100, 400], index = ['Jan', 'Feb', 'Mar', 'Apr'], name=\"4 month sales\")\n",
    "print(s)"
   ]
  },
  {
   "cell_type": "code",
   "execution_count": null,
   "metadata": {},
   "outputs": [],
   "source": [
    "# Create a pandas series to store a canteen data to hold values of how many sandwiches are sold each days(One Week)"
   ]
  },
  {
   "cell_type": "code",
   "execution_count": 3,
   "metadata": {},
   "outputs": [
    {
     "name": "stdout",
     "output_type": "stream",
     "text": [
      "mon    20\n",
      "tue    30\n",
      "wed    20\n",
      "thu    25\n",
      "fri    30\n",
      "sat    40\n",
      "sun     0\n",
      "dtype: int64\n"
     ]
    }
   ],
   "source": [
    "sw = pd.Series([20, 30, 20, 25, 30, 40, 0], index =['mon', 'tue', 'wed', 'thu', 'fri', 'sat', 'sun'])\n",
    "print(sw)\n",
    "               "
   ]
  },
  {
   "cell_type": "code",
   "execution_count": 6,
   "metadata": {},
   "outputs": [
    {
     "name": "stdout",
     "output_type": "stream",
     "text": [
      "30\n",
      "30\n",
      "0\n"
     ]
    }
   ],
   "source": [
    "print(sw[1])\n",
    "print(sw['tue'])\n",
    "print(sw['sun'])"
   ]
  },
  {
   "cell_type": "code",
   "execution_count": 8,
   "metadata": {},
   "outputs": [
    {
     "name": "stdout",
     "output_type": "stream",
     "text": [
      "thu    25\n",
      "sat    40\n",
      "dtype: int64\n",
      "tue    30\n",
      "thu    25\n",
      "dtype: int64\n"
     ]
    }
   ],
   "source": [
    "print(sw[[3, 5]])\n",
    "print(sw[ [ 'tue', \"thu\"]])"
   ]
  },
  {
   "cell_type": "code",
   "execution_count": 9,
   "metadata": {},
   "outputs": [
    {
     "name": "stdout",
     "output_type": "stream",
     "text": [
      "mon    False\n",
      "tue     True\n",
      "wed    False\n",
      "thu     True\n",
      "fri     True\n",
      "sat     True\n",
      "sun    False\n",
      "dtype: bool\n"
     ]
    }
   ],
   "source": [
    "print(sw>20)"
   ]
  },
  {
   "cell_type": "code",
   "execution_count": 11,
   "metadata": {},
   "outputs": [
    {
     "name": "stdout",
     "output_type": "stream",
     "text": [
      "tue    30\n",
      "thu    25\n",
      "fri    30\n",
      "sat    40\n",
      "dtype: int64\n"
     ]
    }
   ],
   "source": [
    "print(sw[sw>20])"
   ]
  },
  {
   "cell_type": "code",
   "execution_count": 4,
   "metadata": {},
   "outputs": [
    {
     "data": {
      "text/plain": [
       "mon    40\n",
       "tue    60\n",
       "wed    40\n",
       "thu    50\n",
       "fri    60\n",
       "sat    80\n",
       "sun     0\n",
       "dtype: int64"
      ]
     },
     "execution_count": 4,
     "metadata": {},
     "output_type": "execute_result"
    }
   ],
   "source": [
    "sw*2"
   ]
  },
  {
   "cell_type": "code",
   "execution_count": 6,
   "metadata": {},
   "outputs": [
    {
     "name": "stdout",
     "output_type": "stream",
     "text": [
      "mon    20\n",
      "tue    30\n",
      "wed    20\n",
      "thu    25\n",
      "fri    30\n",
      "sat    40\n",
      "sun     0\n",
      "dtype: int64\n"
     ]
    }
   ],
   "source": [
    "print(sw)"
   ]
  },
  {
   "cell_type": "code",
   "execution_count": 9,
   "metadata": {},
   "outputs": [
    {
     "data": {
      "text/plain": [
       "mon    40\n",
       "tue    60\n",
       "wed    40\n",
       "thu    50\n",
       "fri    60\n",
       "sat    80\n",
       "sun     0\n",
       "dtype: int64"
      ]
     },
     "execution_count": 9,
     "metadata": {},
     "output_type": "execute_result"
    }
   ],
   "source": [
    "sw1 = sw * 2\n",
    "sw1"
   ]
  },
  {
   "cell_type": "code",
   "execution_count": 10,
   "metadata": {},
   "outputs": [],
   "source": [
    "sw2 = sw1 /2"
   ]
  },
  {
   "cell_type": "code",
   "execution_count": 12,
   "metadata": {},
   "outputs": [
    {
     "data": {
      "text/plain": [
       "mon    20.0\n",
       "tue    30.0\n",
       "wed    20.0\n",
       "thu    25.0\n",
       "fri    30.0\n",
       "sat    40.0\n",
       "sun     0.0\n",
       "dtype: float64"
      ]
     },
     "execution_count": 12,
     "metadata": {},
     "output_type": "execute_result"
    }
   ],
   "source": [
    "sw2"
   ]
  },
  {
   "cell_type": "code",
   "execution_count": 15,
   "metadata": {},
   "outputs": [
    {
     "data": {
      "text/plain": [
       "True"
      ]
     },
     "execution_count": 15,
     "metadata": {},
     "output_type": "execute_result"
    }
   ],
   "source": [
    "'mon' in sw"
   ]
  },
  {
   "cell_type": "code",
   "execution_count": 16,
   "metadata": {},
   "outputs": [
    {
     "data": {
      "text/plain": [
       "False"
      ]
     },
     "execution_count": 16,
     "metadata": {},
     "output_type": "execute_result"
    }
   ],
   "source": [
    "'20' in sw"
   ]
  },
  {
   "cell_type": "code",
   "execution_count": 23,
   "metadata": {},
   "outputs": [],
   "source": [
    "import numpy as np"
   ]
  },
  {
   "cell_type": "code",
   "execution_count": 30,
   "metadata": {},
   "outputs": [
    {
     "name": "stdout",
     "output_type": "stream",
     "text": [
      "a    3\n",
      "b    2\n",
      "c    4\n",
      "d    5\n",
      "e    6\n",
      "dtype: int32\n"
     ]
    }
   ],
   "source": [
    "ar = np.array([3,2,4,5,6])\n",
    "mn = np.array(['a','b','c','d', 'e'])\n",
    "\n",
    "obj2 = pd.Series(ar, index = mn)\n",
    "print(obj2)"
   ]
  },
  {
   "cell_type": "code",
   "execution_count": 33,
   "metadata": {},
   "outputs": [
    {
     "name": "stdout",
     "output_type": "stream",
     "text": [
      "Sindh          35000\n",
      "Punjab         45000\n",
      "KPK             3000\n",
      "Balochistan     2000\n",
      "dtype: int64\n",
      "Index(['Sindh', 'Punjab', 'KPK', 'Balochistan'], dtype='object')\n"
     ]
    }
   ],
   "source": [
    "sdate = {\"Sindh\": 35000, \"Punjab\": 45000, \"KPK\": 3000, \"Balochistan\":2000}\n",
    "tax_by_state = pd.Series(sdate)\n",
    "print(tax_by_state)\n",
    "print(tax_by_state.index)"
   ]
  },
  {
   "cell_type": "code",
   "execution_count": 35,
   "metadata": {},
   "outputs": [
    {
     "name": "stdout",
     "output_type": "stream",
     "text": [
      "Punjab         45000\n",
      "Sindh          35000\n",
      "KPK            30000\n",
      "Balochistan    20000\n",
      "dtype: int64\n",
      "Index(['Punjab', 'Sindh', 'KPK', 'Balochistan'], dtype='object')\n"
     ]
    }
   ],
   "source": [
    "sdate = {\"Sindh\": 35000, \"Punjab\": 45000, \"KPK\": 30000, \"Balochistan\":20000}\n",
    "tax_by_state = pd.Series(sdate, index = [\"Punjab\", \"Sindh\", 'KPK', 'Balochistan',])\n",
    "print(tax_by_state)\n",
    "print(tax_by_state.index)"
   ]
  },
  {
   "cell_type": "markdown",
   "metadata": {},
   "source": [
    "# Source for series data 1, direct data, 2, from numpy or list, 3, Dictionary"
   ]
  },
  {
   "cell_type": "code",
   "execution_count": 37,
   "metadata": {},
   "outputs": [
    {
     "name": "stdout",
     "output_type": "stream",
     "text": [
      "Punjab              45000.0\n",
      "Sindh               35000.0\n",
      "KPK                 30000.0\n",
      "Balochistan         20000.0\n",
      "Gilgit Baltistan        NaN\n",
      "dtype: float64\n",
      "Index(['Punjab', 'Sindh', 'KPK', 'Balochistan', 'Gilgit Baltistan'], dtype='object')\n",
      "Punjab              False\n",
      "Sindh               False\n",
      "KPK                 False\n",
      "Balochistan         False\n",
      "Gilgit Baltistan     True\n",
      "dtype: bool\n"
     ]
    }
   ],
   "source": [
    "sdate = {\"Sindh\": 35000, \"Punjab\": 45000, \"KPK\": 30000, \"Balochistan\":20000}\n",
    "tax_by_state = pd.Series(sdate, index = [\"Punjab\", \"Sindh\", 'KPK', 'Balochistan', 'Gilgit Baltistan'])\n",
    "print(tax_by_state)\n",
    "print(tax_by_state.index)\n",
    "print(pd.isnull(tax_by_state))"
   ]
  },
  {
   "cell_type": "code",
   "execution_count": 43,
   "metadata": {},
   "outputs": [
    {
     "data": {
      "text/plain": [
       "Punjab              False\n",
       "Sindh               False\n",
       "KPK                 False\n",
       "Balochistan         False\n",
       "Gilgit Baltistan     True\n",
       "dtype: bool"
      ]
     },
     "execution_count": 43,
     "metadata": {},
     "output_type": "execute_result"
    }
   ],
   "source": [
    "# NaN values mean, values does not exist in pandas series\n",
    "pd.isnull(tax_by_state) # method\n",
    "tax_by_state.isnull()"
   ]
  },
  {
   "cell_type": "code",
   "execution_count": 42,
   "metadata": {},
   "outputs": [
    {
     "data": {
      "text/plain": [
       "Punjab              False\n",
       "Sindh               False\n",
       "KPK                 False\n",
       "Balochistan         False\n",
       "Gilgit Baltistan     True\n",
       "dtype: bool"
      ]
     },
     "execution_count": 42,
     "metadata": {},
     "output_type": "execute_result"
    }
   ],
   "source": [
    "tax_by_state.isnull()"
   ]
  },
  {
   "cell_type": "code",
   "execution_count": 44,
   "metadata": {},
   "outputs": [
    {
     "data": {
      "text/plain": [
       "Punjab              False\n",
       "Sindh               False\n",
       "KPK                 False\n",
       "Balochistan         False\n",
       "Gilgit Baltistan     True\n",
       "dtype: bool"
      ]
     },
     "execution_count": 44,
     "metadata": {},
     "output_type": "execute_result"
    }
   ],
   "source": [
    "pd.isnull(tax_by_state)\n",
    "tax_by_state.isnull()"
   ]
  },
  {
   "cell_type": "code",
   "execution_count": 46,
   "metadata": {},
   "outputs": [
    {
     "name": "stdout",
     "output_type": "stream",
     "text": [
      "state name\n",
      "Punjab              45000.0\n",
      "Sindh               35000.0\n",
      "KPK                 30000.0\n",
      "Balochistan         20000.0\n",
      "Gilgit Baltistan        NaN\n",
      "Name: State tax Paying Capacity, dtype: float64\n",
      "Index(['Punjab', 'Sindh', 'KPK', 'Balochistan', 'Gilgit Baltistan'], dtype='object', name='state name')\n"
     ]
    }
   ],
   "source": [
    "tax_by_state.name = \"State tax Paying Capacity\"\n",
    "tax_by_state.index.name = \"state name\"\n",
    "print(tax_by_state)\n",
    "print(tax_by_state.index)\n"
   ]
  },
  {
   "cell_type": "code",
   "execution_count": null,
   "metadata": {},
   "outputs": [],
   "source": [
    "sw"
   ]
  },
  {
   "cell_type": "code",
   "execution_count": 49,
   "metadata": {},
   "outputs": [
    {
     "name": "stdout",
     "output_type": "stream",
     "text": [
      "mon    20\n",
      "tue    30\n",
      "wed    20\n",
      "thu    25\n",
      "fri    30\n",
      "sat    40\n",
      "sun     0\n",
      "dtype: int64\n",
      "m    20\n",
      "t    30\n",
      "w    20\n",
      "t    25\n",
      "f    30\n",
      "s    40\n",
      "s     0\n",
      "dtype: int64\n"
     ]
    }
   ],
   "source": [
    "sw = pd.Series([20, 30, 20, 25, 30, 40, 0], \n",
    "               index =['mon', 'tue', 'wed', 'thu', 'fri', 'sat', 'sun'])\n",
    "print(sw)\n",
    "\n",
    "sw.index = ['m', 't', 'w', 't', 'f', 's', 's']\n",
    "print(sw)"
   ]
  },
  {
   "cell_type": "code",
   "execution_count": null,
   "metadata": {},
   "outputs": [],
   "source": []
  },
  {
   "cell_type": "code",
   "execution_count": null,
   "metadata": {},
   "outputs": [],
   "source": []
  },
  {
   "cell_type": "code",
   "execution_count": null,
   "metadata": {},
   "outputs": [],
   "source": []
  },
  {
   "cell_type": "code",
   "execution_count": null,
   "metadata": {},
   "outputs": [],
   "source": []
  },
  {
   "cell_type": "code",
   "execution_count": null,
   "metadata": {},
   "outputs": [],
   "source": []
  },
  {
   "cell_type": "code",
   "execution_count": null,
   "metadata": {},
   "outputs": [],
   "source": []
  },
  {
   "cell_type": "code",
   "execution_count": null,
   "metadata": {},
   "outputs": [],
   "source": []
  },
  {
   "cell_type": "code",
   "execution_count": null,
   "metadata": {},
   "outputs": [],
   "source": []
  },
  {
   "cell_type": "code",
   "execution_count": null,
   "metadata": {},
   "outputs": [],
   "source": []
  },
  {
   "cell_type": "code",
   "execution_count": null,
   "metadata": {},
   "outputs": [],
   "source": []
  },
  {
   "cell_type": "code",
   "execution_count": null,
   "metadata": {},
   "outputs": [],
   "source": []
  },
  {
   "cell_type": "code",
   "execution_count": null,
   "metadata": {},
   "outputs": [],
   "source": [
    "aaaaaaaaa"
   ]
  },
  {
   "cell_type": "code",
   "execution_count": null,
   "metadata": {},
   "outputs": [],
   "source": []
  },
  {
   "cell_type": "code",
   "execution_count": null,
   "metadata": {},
   "outputs": [],
   "source": []
  }
 ],
 "metadata": {
  "kernelspec": {
   "display_name": "Python 3",
   "language": "python",
   "name": "python3"
  },
  "language_info": {
   "codemirror_mode": {
    "name": "ipython",
    "version": 3
   },
   "file_extension": ".py",
   "mimetype": "text/x-python",
   "name": "python",
   "nbconvert_exporter": "python",
   "pygments_lexer": "ipython3",
   "version": "3.8.3"
  }
 },
 "nbformat": 4,
 "nbformat_minor": 4
}
