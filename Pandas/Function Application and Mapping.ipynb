{
 "cells": [
  {
   "cell_type": "markdown",
   "metadata": {},
   "source": [
    "# Function Application and Mapping"
   ]
  },
  {
   "cell_type": "code",
   "execution_count": null,
   "metadata": {},
   "outputs": [],
   "source": [
    "Import pandas as pd\n",
    "\n",
    "'a' in data\n",
    "\n",
    "list(data.items())\n",
    "\n",
    "data.keys()\n",
    "\n",
    "data['e'] = 1.25\n",
    "\n",
    "data\n",
    "\n",
    "\n",
    "data ['a':'c']\n",
    "\n",
    "data [0:2]   #slicing by implicit interger index\n",
    "\n",
    "#masking\n",
    "data[(data > 0.3) & data < 0.8)]\n",
    "\n",
    "#fancing indexing\n",
    "data[['a','e']]\n",
    "\n",
    "loc\n",
    "iloc"
   ]
  },
  {
   "cell_type": "code",
   "execution_count": 8,
   "metadata": {},
   "outputs": [
    {
     "data": {
      "text/plain": [
       "1    a\n",
       "3    b\n",
       "5    c\n",
       "dtype: object"
      ]
     },
     "execution_count": 8,
     "metadata": {},
     "output_type": "execute_result"
    }
   ],
   "source": [
    "data = pd.Series(['a','b','c'], index=[1,3,5])\n",
    "data"
   ]
  },
  {
   "cell_type": "code",
   "execution_count": 7,
   "metadata": {},
   "outputs": [
    {
     "data": {
      "text/plain": [
       "3    b\n",
       "5    c\n",
       "dtype: object"
      ]
     },
     "execution_count": 7,
     "metadata": {},
     "output_type": "execute_result"
    }
   ],
   "source": [
    "#implicit index when indexing\n",
    "data[1:3]"
   ]
  },
  {
   "cell_type": "code",
   "execution_count": 6,
   "metadata": {},
   "outputs": [
    {
     "data": {
      "text/plain": [
       "'a'"
      ]
     },
     "execution_count": 6,
     "metadata": {},
     "output_type": "execute_result"
    }
   ],
   "source": [
    "#explicit index when indexing\n",
    "data[1]"
   ]
  },
  {
   "cell_type": "code",
   "execution_count": 9,
   "metadata": {},
   "outputs": [
    {
     "data": {
      "text/plain": [
       "'a'"
      ]
     },
     "execution_count": 9,
     "metadata": {},
     "output_type": "execute_result"
    }
   ],
   "source": [
    "data.loc[1]"
   ]
  },
  {
   "cell_type": "code",
   "execution_count": 12,
   "metadata": {},
   "outputs": [
    {
     "data": {
      "text/plain": [
       "1    a\n",
       "3    b\n",
       "dtype: object"
      ]
     },
     "execution_count": 12,
     "metadata": {},
     "output_type": "execute_result"
    }
   ],
   "source": [
    "data.loc[1:3] # explicitly follow"
   ]
  },
  {
   "cell_type": "code",
   "execution_count": 13,
   "metadata": {},
   "outputs": [
    {
     "data": {
      "text/plain": [
       "3    b\n",
       "5    c\n",
       "dtype: object"
      ]
     },
     "execution_count": 13,
     "metadata": {},
     "output_type": "execute_result"
    }
   ],
   "source": [
    "data.iloc[1:3] # implicity"
   ]
  },
  {
   "cell_type": "code",
   "execution_count": 14,
   "metadata": {},
   "outputs": [
    {
     "data": {
      "text/plain": [
       "'b'"
      ]
     },
     "execution_count": 14,
     "metadata": {},
     "output_type": "execute_result"
    }
   ],
   "source": [
    "data.iloc[1] # implicity"
   ]
  },
  {
   "cell_type": "code",
   "execution_count": 17,
   "metadata": {},
   "outputs": [],
   "source": []
  },
  {
   "cell_type": "code",
   "execution_count": 20,
   "metadata": {},
   "outputs": [],
   "source": [
    "#ta['density'] = data['pop'] / data['area']\n",
    "#ata                               "
   ]
  },
  {
   "cell_type": "code",
   "execution_count": null,
   "metadata": {},
   "outputs": [],
   "source": [
    "data.values\n",
    "data.values[0]"
   ]
  },
  {
   "cell_type": "code",
   "execution_count": null,
   "metadata": {},
   "outputs": [],
   "source": [
    "data.T #transpose"
   ]
  },
  {
   "cell_type": "code",
   "execution_count": null,
   "metadata": {},
   "outputs": [],
   "source": [
    "data.iloc[0, 2] = 90\n",
    "data"
   ]
  },
  {
   "cell_type": "code",
   "execution_count": null,
   "metadata": {},
   "outputs": [],
   "source": []
  },
  {
   "cell_type": "code",
   "execution_count": null,
   "metadata": {},
   "outputs": [],
   "source": []
  },
  {
   "cell_type": "markdown",
   "metadata": {},
   "source": [
    "# Function Application and Mapping"
   ]
  },
  {
   "cell_type": "code",
   "execution_count": 1,
   "metadata": {},
   "outputs": [],
   "source": [
    "import numpy as np\n",
    "import pandas as pd"
   ]
  },
  {
   "cell_type": "code",
   "execution_count": 2,
   "metadata": {},
   "outputs": [],
   "source": [
    "frame = pd.DataFrame(np.random.randn(4, 3),\n",
    "                     columns=list('bde'),\n",
    "                     index=['Utah', 'Ohio', 'Texas', 'Oregon'])"
   ]
  },
  {
   "cell_type": "code",
   "execution_count": 3,
   "metadata": {},
   "outputs": [
    {
     "name": "stdout",
     "output_type": "stream",
     "text": [
      "               b         d         e\n",
      "Utah   -0.001566  0.392006  0.244887\n",
      "Ohio    0.829457 -0.940840 -0.288063\n",
      "Texas   0.139505  0.813209 -0.232949\n",
      "Oregon -0.455585  0.953402 -0.957469\n"
     ]
    }
   ],
   "source": [
    "print(frame)\n"
   ]
  },
  {
   "cell_type": "code",
   "execution_count": null,
   "metadata": {},
   "outputs": [],
   "source": []
  },
  {
   "cell_type": "code",
   "execution_count": 4,
   "metadata": {
    "scrolled": true
   },
   "outputs": [
    {
     "name": "stdout",
     "output_type": "stream",
     "text": [
      "               b         d         e\n",
      "Utah    0.001566  0.392006  0.244887\n",
      "Ohio    0.829457  0.940840  0.288063\n",
      "Texas   0.139505  0.813209  0.232949\n",
      "Oregon  0.455585  0.953402  0.957469\n"
     ]
    }
   ],
   "source": [
    "print(np.abs(frame))"
   ]
  },
  {
   "cell_type": "code",
   "execution_count": 5,
   "metadata": {},
   "outputs": [
    {
     "name": "stdout",
     "output_type": "stream",
     "text": [
      "-0.9408396957418043\n"
     ]
    }
   ],
   "source": [
    "print(frame['d'].min())"
   ]
  },
  {
   "cell_type": "code",
   "execution_count": 18,
   "metadata": {},
   "outputs": [
    {
     "name": "stdout",
     "output_type": "stream",
     "text": [
      "-0.18310353276492192\n"
     ]
    }
   ],
   "source": [
    "print(frame['d'].max())"
   ]
  },
  {
   "cell_type": "code",
   "execution_count": null,
   "metadata": {},
   "outputs": [],
   "source": [
    "frame = pd.DataFrame(np.random.randn(4, 3),\n",
    "                     columns=list('bde'),\n",
    "                     index=['Utah', 'Ohio', 'Texas', 'Oregon'])\n",
    "print(frame)\n"
   ]
  },
  {
   "cell_type": "code",
   "execution_count": null,
   "metadata": {},
   "outputs": [],
   "source": []
  },
  {
   "cell_type": "code",
   "execution_count": null,
   "metadata": {},
   "outputs": [],
   "source": []
  },
  {
   "cell_type": "code",
   "execution_count": null,
   "metadata": {},
   "outputs": [],
   "source": []
  },
  {
   "cell_type": "code",
   "execution_count": null,
   "metadata": {},
   "outputs": [],
   "source": []
  },
  {
   "cell_type": "code",
   "execution_count": 6,
   "metadata": {},
   "outputs": [
    {
     "name": "stdout",
     "output_type": "stream",
     "text": [
      "               b         d         e\n",
      "Utah   -0.655957  0.458699  0.777296\n",
      "Ohio   -0.042324 -1.163876  0.547070\n",
      "Texas  -1.841106  1.552915  0.155173\n",
      "Oregon -1.501055  0.347081 -1.697769\n",
      "b    1.798782\n",
      "d    2.716791\n",
      "e    2.475065\n",
      "dtype: float64 <class 'pandas.core.series.Series'>\n"
     ]
    }
   ],
   "source": [
    "frame = pd.DataFrame(np.random.randn(4, 3),\n",
    "                    columns=list('bde'),\n",
    "                    index=['Utah','Ohio','Texas','Oregon'])\n",
    "print(frame)\n",
    "#print(np.abs(frame))\n",
    "\n",
    "#print(frame[\"d\"].min())\n",
    "#print(frame[\"d\"].max())\n",
    "#print(frame[\"d\"].max() -frame[\"d\"]. min())\n",
    "\n",
    "f = lambda x: x.max() - x.min()\n",
    "\n",
    "df = frame.apply(f)\n",
    "print (df, type(df))\n",
    "#df =frame.apply(f, axis=1)\n",
    "#print(df)"
   ]
  },
  {
   "cell_type": "code",
   "execution_count": 16,
   "metadata": {},
   "outputs": [
    {
     "name": "stdout",
     "output_type": "stream",
     "text": [
      "               b         d         e\n",
      "Utah   -0.630135 -1.047085  1.692063\n",
      "Ohio   -0.228238  1.131597 -0.099392\n",
      "Texas  -0.786204  0.031574 -1.461316\n",
      "Oregon -2.235328  1.540052  0.976790\n",
      "Utah      2.739148\n",
      "Ohio      1.359836\n",
      "Texas     1.492889\n",
      "Oregon    3.775380\n",
      "dtype: float64\n"
     ]
    }
   ],
   "source": [
    "frame = pd.DataFrame(np.random.randn(4, 3),\n",
    "                    columns=list('bde'),\n",
    "                    index=['Utah','Ohio','Texas','Oregon'])\n",
    "print(frame)\n",
    "#print(np.abs(frame))\n",
    "\n",
    "#print(frame[\"d\"].min())\n",
    "#print(frame[\"d\"].max())\n",
    "#print(frame[\"d\"].max() -frame[\"d\"]. min())\n",
    "\n",
    "f = lambda x: x.max() - x.min()\n",
    "\n",
    "#df = frame.apply(f)\n",
    "#print (df, type(df))\n",
    "df =frame.apply(f, axis=1)\n",
    "print(df)"
   ]
  },
  {
   "cell_type": "code",
   "execution_count": 3,
   "metadata": {},
   "outputs": [
    {
     "name": "stdout",
     "output_type": "stream",
     "text": [
      "            b         d         e\n",
      "min  0.968203  1.737207  1.205703\n",
      "max -1.385600 -0.174845 -0.058403 <class 'pandas.core.frame.DataFrame'>\n"
     ]
    }
   ],
   "source": [
    "def min_max(x):\n",
    "    minimum = x.min()\n",
    "    maximum = x.max()\n",
    "    return pd.Series( [x.max(), x.min() ], index=['min','max'])\n",
    "\n",
    "df = frame.apply(min_max)\n",
    "print(df, type(df))"
   ]
  },
  {
   "cell_type": "markdown",
   "metadata": {},
   "source": [
    "# Sorting and Ranking"
   ]
  },
  {
   "cell_type": "code",
   "execution_count": 28,
   "metadata": {},
   "outputs": [
    {
     "name": "stdout",
     "output_type": "stream",
     "text": [
      "       d  a  b  c\n",
      "three  0  1  2  3\n",
      "one    4  5  6  7\n",
      "       a  b  c  d\n",
      "three  1  2  3  0\n",
      "one    5  6  7  4\n",
      "       d  a  b  c\n",
      "one    4  5  6  7\n",
      "three  0  1  2  3\n"
     ]
    }
   ],
   "source": [
    "frame = pd.DataFrame(np.arange(8).reshape(2, 4),\n",
    "                     index= ['three', 'one'],\n",
    "                     columns=['d','a','b','c',])\n",
    "print(frame)\n",
    "\n",
    "print(frame.sort_index(axis=1, ascending=True))\n",
    "\n",
    "print(frame.sort_index())\n",
    "\n",
    "#default in sort: axis = 0, ascending = True"
   ]
  },
  {
   "cell_type": "code",
   "execution_count": 6,
   "metadata": {},
   "outputs": [
    {
     "name": "stdout",
     "output_type": "stream",
     "text": [
      "       a  b  c  d\n",
      "three  1  2  3  0\n",
      "one    5  6  7  4\n"
     ]
    }
   ],
   "source": [
    "print(frame.sort_index(axis=1, ascending=True))"
   ]
  },
  {
   "cell_type": "code",
   "execution_count": 20,
   "metadata": {},
   "outputs": [
    {
     "name": "stdout",
     "output_type": "stream",
     "text": [
      "               b         d         e\n",
      "Oregon -2.235328  1.540052  0.976790\n",
      "Texas  -0.786204  0.031574 -1.461316\n",
      "Utah   -0.630135 -1.047085  1.692063\n",
      "Ohio   -0.228238  1.131597 -0.099392\n",
      "          b    d    e\n",
      "Utah    2.0  4.0  1.0\n",
      "Ohio    1.0  2.0  3.0\n",
      "Texas   3.0  3.0  4.0\n",
      "Oregon  4.0  1.0  2.0\n",
      "          b    d    e\n",
      "Utah    3.0  1.0  4.0\n",
      "Ohio    4.0  3.0  2.0\n",
      "Texas   2.0  2.0  1.0\n",
      "Oregon  1.0  4.0  3.0\n",
      "          b    d    e\n",
      "Utah    2.0  1.0  3.0\n",
      "Ohio    1.0  3.0  2.0\n",
      "Texas   2.0  3.0  1.0\n",
      "Oregon  1.0  3.0  2.0\n"
     ]
    }
   ],
   "source": [
    "print(frame.sort_values(by='b'))\n",
    "print(frame.rank(ascending=False, method='max'))\n",
    "print(frame.rank(ascending=True, method='min'))\n",
    "print(frame.rank(axis='columns'))\n",
    "\n"
   ]
  },
  {
   "cell_type": "code",
   "execution_count": null,
   "metadata": {},
   "outputs": [],
   "source": [
    "'''\n",
    "'average' Default: assign the average rank to each entry in the equal group\n",
    "'min'\n",
    "'max'\n",
    "'first'\n",
    "'dense'\n",
    "Use the minimum rank for the whole group\n",
    "Use the maximum rank for the whole group\n",
    "Assign ranks in the order the values appear in the data\n",
    "Like method='min' , but ranks always increase by 1 in between groups rather than the number of equal\n",
    "elements in a group\n",
    "'''"
   ]
  },
  {
   "cell_type": "code",
   "execution_count": 40,
   "metadata": {},
   "outputs": [
    {
     "name": "stdout",
     "output_type": "stream",
     "text": [
      "    one  two\n",
      "a  1.40  NaN\n",
      "b  7.10 -4.5\n",
      "c   NaN  NaN\n",
      "d  0.75 -1.3\n",
      "\n",
      "one    9.25\n",
      "two   -5.80\n",
      "dtype: float64\n",
      "\n",
      "a    1.40\n",
      "b    2.60\n",
      "c    0.00\n",
      "d   -0.55\n",
      "dtype: float64\n"
     ]
    }
   ],
   "source": [
    "# note: use of skipna\n",
    "df = pd.DataFrame([\n",
    "                    [1.4, np.nan], [7.1, -4.5],\n",
    "                    [np.nan, np.nan], [0.75, -1.3]\n",
    "                    ], index=['a','b','c','d'], columns=['one','two'])\n",
    "\n",
    "print(df)\n",
    "print()\n",
    "print( df.sum())\n",
    "print()\n",
    "print( df.sum(axis='columns'))"
   ]
  },
  {
   "cell_type": "code",
   "execution_count": 30,
   "metadata": {},
   "outputs": [
    {
     "name": "stdout",
     "output_type": "stream",
     "text": [
      "    one  two\n",
      "a  1.40  NaN\n",
      "b  7.10 -4.5\n",
      "c   NaN  NaN\n",
      "d  0.75 -1.3\n",
      "\n",
      "a      NaN\n",
      "b    1.300\n",
      "c      NaN\n",
      "d   -0.275\n",
      "dtype: float64\n"
     ]
    }
   ],
   "source": [
    "print(df)\n",
    "x = df.mean(axis='columns', skipna=False)\n",
    "print()\n",
    "print(x)"
   ]
  },
  {
   "cell_type": "code",
   "execution_count": 39,
   "metadata": {},
   "outputs": [
    {
     "name": "stdout",
     "output_type": "stream",
     "text": [
      "    one  two  three  four\n",
      "a  1.40  1.4    1.5   NaN\n",
      "b  7.10 -4.5    1.5   1.4\n",
      "c  1.40  NaN    0.5   NaN\n",
      "d  0.75 -1.3    1.3   NaN\n",
      "[1.4  7.1  0.75] [ 1.4 -4.5  nan -1.3]\n"
     ]
    },
    {
     "data": {
      "text/plain": [
       "1.40    2\n",
       "0.75    1\n",
       "7.10    1\n",
       "Name: one, dtype: int64"
      ]
     },
     "execution_count": 39,
     "metadata": {},
     "output_type": "execute_result"
    }
   ],
   "source": [
    "#Unique values\n",
    "df = pd.DataFrame([\n",
    "            [1.4,1.4,1.5, np.nan], [7.1, -4.5, 1.5, 1.4],\n",
    "            [1.4, np.nan, 0.5, np.nan], [0.75, -1.3, 1.3, np.nan]\n",
    "            ], index=['a','b','c','d'], columns=['one','two','three','four'])\n",
    "                      \n",
    "                      \n",
    "print(df)\n",
    "print(df['one'].unique(), df['two'].unique())\n",
    "df['one'].value_counts()"
   ]
  },
  {
   "cell_type": "code",
   "execution_count": 33,
   "metadata": {},
   "outputs": [
    {
     "name": "stdout",
     "output_type": "stream",
     "text": [
      "    one  two  three  four\n",
      "a  1.40  1.4    1.5   NaN\n",
      "b  7.10 -4.5    1.5   1.4\n",
      "c  1.40  NaN    0.5   NaN\n",
      "d  0.75 -1.3    1.3   NaN\n"
     ]
    }
   ],
   "source": [
    "\n",
    "# unique values\n",
    "df = pd.DataFrame([\n",
    "                    [1.4,1.4, 1.5, np.nan], [7.1, -4.5, 1.5, 1.4],\n",
    "                    [1.4, np.nan, 0.5, np.nan], [0.75, -1.3, 1.3, np.nan]\n",
    "                   ], index=['a','b','c','d'], columns=['one', 'two', 'three', 'four'])\n",
    "print(df)"
   ]
  },
  {
   "cell_type": "code",
   "execution_count": null,
   "metadata": {},
   "outputs": [],
   "source": []
  },
  {
   "cell_type": "code",
   "execution_count": null,
   "metadata": {},
   "outputs": [],
   "source": []
  }
 ],
 "metadata": {
  "kernelspec": {
   "display_name": "Python 3",
   "language": "python",
   "name": "python3"
  },
  "language_info": {
   "codemirror_mode": {
    "name": "ipython",
    "version": 3
   },
   "file_extension": ".py",
   "mimetype": "text/x-python",
   "name": "python",
   "nbconvert_exporter": "python",
   "pygments_lexer": "ipython3",
   "version": "3.8.3"
  }
 },
 "nbformat": 4,
 "nbformat_minor": 4
}
